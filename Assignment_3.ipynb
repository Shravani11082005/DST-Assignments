{
  "nbformat": 4,
  "nbformat_minor": 0,
  "metadata": {
    "colab": {
      "provenance": [],
      "authorship_tag": "ABX9TyM3d9fJhrF0XXe4eM+kck0H",
      "include_colab_link": true
    },
    "kernelspec": {
      "name": "python3",
      "display_name": "Python 3"
    },
    "language_info": {
      "name": "python"
    }
  },
  "cells": [
    {
      "cell_type": "markdown",
      "metadata": {
        "id": "view-in-github",
        "colab_type": "text"
      },
      "source": [
        "<a href=\"https://colab.research.google.com/github/Shravani11082005/DST-Assignments/blob/main/Assignment_3.ipynb\" target=\"_parent\"><img src=\"https://colab.research.google.com/assets/colab-badge.svg\" alt=\"Open In Colab\"/></a>"
      ]
    },
    {
      "cell_type": "code",
      "execution_count": null,
      "metadata": {
        "colab": {
          "base_uri": "https://localhost:8080/"
        },
        "id": "f-SKXc2s6rdA",
        "outputId": "0295944a-f889-4cb3-f1a1-e98b5935205a"
      },
      "outputs": [
        {
          "output_type": "stream",
          "name": "stdout",
          "text": [
            "Probability of Heads: 0.6\n",
            "Probability of Tails: 0.4\n",
            "Probability of having disease given positive test: 0.16666666666666669\n"
          ]
        }
      ],
      "source": [
        "# Part 1: Probability of heads and tails\n",
        "total_flips = 100\n",
        "heads = 60\n",
        "tails = 40\n",
        "\n",
        "p_heads = heads / total_flips\n",
        "p_tails = tails / total_flips\n",
        "\n",
        "print(\"Probability of Heads:\", p_heads)\n",
        "print(\"Probability of Tails:\", p_tails)\n",
        "\n",
        "# Part 2: Bayes’ Theorem Example\n",
        "# Given:\n",
        "# P(Disease) = 0.01\n",
        "# P(Positive | Disease) = 0.99\n",
        "# P(Positive | No Disease) = 0.05\n",
        "\n",
        "p_disease = 0.01\n",
        "p_positive_given_disease = 0.99\n",
        "p_positive_given_no_disease = 0.05\n",
        "p_no_disease = 1 - p_disease\n",
        "\n",
        "# Bayes' Theorem\n",
        "p_positive = (p_positive_given_disease * p_disease) + \\\n",
        "             (p_positive_given_no_disease * p_no_disease)\n",
        "\n",
        "p_disease_given_positive = (p_positive_given_disease * p_disease) / p_positive\n",
        "\n",
        "print(\"Probability of having disease given positive test:\", p_disease_given_positive)"
      ]
    },
    {
      "cell_type": "code",
      "source": [],
      "metadata": {
        "id": "Lhfy22QC65AS"
      },
      "execution_count": null,
      "outputs": []
    }
  ]
}